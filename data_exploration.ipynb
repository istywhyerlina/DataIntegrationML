{
 "cells": [
  {
   "cell_type": "code",
   "execution_count": 5,
   "id": "8f216a35",
   "metadata": {},
   "outputs": [],
   "source": [
    "import pandas as pd\n",
    "import sys\n",
    "sys.path.insert(0, '/home/istywhyerlina/PipelinePyspark/exercise4/data_pipeline_exercise_4')\n",
    "from script.helper.db_conn import db_connection\n",
    "from pangres import upsert\n",
    "from script.etl.extract import *\n",
    "\n",
    "from sqlalchemy import *\n",
    "\n",
    "\n"
   ]
  },
  {
   "cell_type": "code",
   "execution_count": 6,
   "id": "865a04ff",
   "metadata": {},
   "outputs": [
    {
     "name": "stdout",
     "output_type": "stream",
     "text": [
      "Extract Data Brand Car Spreadsheet from Source is Succeed\n",
      "Extract Data car_sales from Source is Succeed\n",
      "Extract Data us_state from API source is Succeed\n"
     ]
    }
   ],
   "source": [
    "car_brand=extract_sheet(key_file, \"brand_car\")\n",
    "car_sales=extract_db(\"car_sales\", \"src\")\n",
    "us_state=extract_api(\"https://raw.githubusercontent.com/Kurikulum-Sekolah-Pacmann/us_states_data/refs/heads/main/us_states.json\")\n"
   ]
  },
  {
   "cell_type": "code",
   "execution_count": 14,
   "id": "7f79fbcc",
   "metadata": {},
   "outputs": [
    {
     "data": {
      "text/plain": [
       "0\n",
       "brand_car_id    object\n",
       "brand_name      object\n",
       "dtype: object"
      ]
     },
     "execution_count": 14,
     "metadata": {},
     "output_type": "execute_result"
    }
   ],
   "source": [
    "car_brand.dtypes"
   ]
  },
  {
   "cell_type": "code",
   "execution_count": 15,
   "id": "25f323d7",
   "metadata": {},
   "outputs": [
    {
     "data": {
      "text/plain": [
       "id_sales          int64\n",
       "year              int64\n",
       "brand_car        object\n",
       "model            object\n",
       "trim             object\n",
       "body             object\n",
       "transmission     object\n",
       "vin              object\n",
       "state            object\n",
       "condition       float64\n",
       "odometer        float64\n",
       "color            object\n",
       "interior         object\n",
       "seller           object\n",
       "mmr             float64\n",
       "sellingprice    float64\n",
       "saledate         object\n",
       "dtype: object"
      ]
     },
     "execution_count": 15,
     "metadata": {},
     "output_type": "execute_result"
    }
   ],
   "source": [
    "car_sales.dtypes"
   ]
  },
  {
   "cell_type": "code",
   "execution_count": 17,
   "id": "bc11ce93",
   "metadata": {},
   "outputs": [
    {
     "data": {
      "text/plain": [
       "id_state     int64\n",
       "code        object\n",
       "name        object\n",
       "dtype: object"
      ]
     },
     "execution_count": 17,
     "metadata": {},
     "output_type": "execute_result"
    }
   ],
   "source": [
    "us_state.dtypes"
   ]
  }
 ],
 "metadata": {
  "kernelspec": {
   "display_name": "Python 3",
   "language": "python",
   "name": "python3"
  },
  "language_info": {
   "codemirror_mode": {
    "name": "ipython",
    "version": 3
   },
   "file_extension": ".py",
   "mimetype": "text/x-python",
   "name": "python",
   "nbconvert_exporter": "python",
   "pygments_lexer": "ipython3",
   "version": "3.10.12"
  }
 },
 "nbformat": 4,
 "nbformat_minor": 5
}
