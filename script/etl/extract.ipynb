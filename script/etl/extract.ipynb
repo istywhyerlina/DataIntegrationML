{
 "cells": [
  {
   "cell_type": "code",
   "execution_count": 1,
   "id": "59a3dc4b",
   "metadata": {},
   "outputs": [],
   "source": [
    "import pandas as pd\n",
    "import sys\n",
    "sys.path.insert(0, '/home/istywhyerlina/PipelinePyspark/exercise4/data_pipeline_exercise_4/script')\n",
    "from helper.db_conn import db_connection\n",
    "from pangres import upsert\n",
    "from etl.extract import *\n",
    "from etl.load import *\n",
    "\n",
    "from sqlalchemy import *\n"
   ]
  },
  {
   "cell_type": "code",
   "execution_count": 2,
   "id": "04fbe569",
   "metadata": {},
   "outputs": [
    {
     "name": "stdout",
     "output_type": "stream",
     "text": [
      "Extract Data Brand Car Spreadsheet from Source is Succeed\n",
      "Load data to car_brand is succeed\n",
      "Extract Data car_sales from Source is Succeed\n",
      "Load data to car_sales is succeed\n",
      "Extract Data us_state from API source is Succeed\n",
      "Load data to us_state is succeed\n"
     ]
    }
   ],
   "source": [
    "df1=extract_sheet(key_file, \"brand_car\")\n",
    "load_stg(df1, \"car_brand\")\n",
    "df2=extract_db(\"car_sales\", \"src\")\n",
    "df2=df2.drop(['model','trim','body','vin','seller','saledate'], axis=1)\n",
    "load_stg(df2, \"car_sales\")\n",
    "df3=extract_api(\"https://raw.githubusercontent.com/Kurikulum-Sekolah-Pacmann/us_states_data/refs/heads/main/us_states.json\")\n",
    "load_stg(df3, \"us_state\")\n"
   ]
  },
  {
   "cell_type": "code",
   "execution_count": 3,
   "id": "05a8bbb2",
   "metadata": {},
   "outputs": [],
   "source": [
    "_, stg_engine, dwh_engine,_ = db_connection()"
   ]
  },
  {
   "cell_type": "code",
   "execution_count": 4,
   "id": "521f735d",
   "metadata": {},
   "outputs": [],
   "source": [
    "conn=stg_engine.connect()\n",
    "meta = MetaData()\n",
    "meta.reflect(bind=stg_engine)\n"
   ]
  },
  {
   "cell_type": "code",
   "execution_count": 5,
   "id": "264a907a",
   "metadata": {},
   "outputs": [
    {
     "name": "stdout",
     "output_type": "stream",
     "text": [
      "Extract Data car_brand from Staging is Succeed\n",
      "Extract Data car_sales from Staging is Succeed\n",
      "Extract Data us_state from Staging is Succeed\n"
     ]
    }
   ],
   "source": [
    "for table in meta.sorted_tables:\n",
    "    globals()[f'{table}']=extract_db(str(table), \"stg\")\n",
    "    "
   ]
  },
  {
   "cell_type": "code",
   "execution_count": 6,
   "id": "cbb2e548",
   "metadata": {},
   "outputs": [],
   "source": [
    "\n",
    "car_brand= car_brand.drop('created_at', axis=1)\n",
    "car_brand = car_brand.rename({'brand_car_id': 'brand_car_id_nk'}, axis='columns')\n"
   ]
  },
  {
   "cell_type": "code",
   "execution_count": 7,
   "id": "d7af9ee9",
   "metadata": {},
   "outputs": [],
   "source": [
    "get_key={\n",
    "            \"car_brand\":\"brand_car_id_nk\",\n",
    "            \"car_sales\":\"id_sales_nk\",\n",
    "            \"us_state\":\"id_state_nk\"\n",
    "        }\n",
    "car_brand=car_brand.set_index([get_key.get('car_brand')], drop = False)\n",
    "car_brand= car_brand.drop('brand_car_id_nk', axis=1)\n"
   ]
  },
  {
   "cell_type": "code",
   "execution_count": 8,
   "id": "633a2a2e",
   "metadata": {},
   "outputs": [],
   "source": [
    "us_state= us_state.drop('created_at', axis=1)\n",
    "us_state = us_state.rename({'id_state': 'id_state_nk'}, axis='columns')"
   ]
  },
  {
   "cell_type": "code",
   "execution_count": 9,
   "id": "b4e4cdd4",
   "metadata": {},
   "outputs": [],
   "source": [
    "get_key={\n",
    "            \"car_brand\":\"brand_car_id_nk\",\n",
    "            \"car_sales\":\"id_sales_nk\",\n",
    "            \"us_state\":\"id_state_nk\"\n",
    "        }\n",
    "us_state=us_state.set_index([get_key.get('us_state')], drop = False)\n",
    "us_state= us_state.drop('id_state_nk', axis=1)"
   ]
  },
  {
   "cell_type": "code",
   "execution_count": 10,
   "id": "7ffd73ed",
   "metadata": {},
   "outputs": [
    {
     "name": "stdout",
     "output_type": "stream",
     "text": [
      "Extract Data car_brand from Datawarehouse is Succeed\n"
     ]
    }
   ],
   "source": [
    "car_brand_dwh=extract_db(str('car_brand'), \"dwh\")\n",
    "car_brand_dwh=car_brand_dwh[['brand_car_id','brand_name']]"
   ]
  },
  {
   "cell_type": "code",
   "execution_count": 11,
   "id": "b3095536",
   "metadata": {},
   "outputs": [
    {
     "name": "stdout",
     "output_type": "stream",
     "text": [
      "Extract Data us_state from Datawarehouse is Succeed\n"
     ]
    }
   ],
   "source": [
    "us_state_dwh=extract_db(str('us_state'), \"dwh\")\n",
    "us_state_dwh=us_state_dwh[['id_state','code']]\n"
   ]
  },
  {
   "cell_type": "code",
   "execution_count": 12,
   "id": "5d07144e",
   "metadata": {},
   "outputs": [],
   "source": [
    "car_sales=car_sales.merge(car_brand_dwh, how=\"left\", left_on='brand_car', right_on='brand_name')\n",
    "car_sales=car_sales.merge(us_state_dwh, how=\"left\", left_on='state', right_on='code')\n"
   ]
  },
  {
   "cell_type": "code",
   "execution_count": 13,
   "id": "bb06ca33",
   "metadata": {},
   "outputs": [],
   "source": [
    "car_sales=car_sales.drop(['brand_car','state','brand_name','code','created_at'], axis=1)"
   ]
  },
  {
   "cell_type": "code",
   "execution_count": 14,
   "id": "23eb7b03",
   "metadata": {},
   "outputs": [
    {
     "data": {
      "text/html": [
       "<div>\n",
       "<style scoped>\n",
       "    .dataframe tbody tr th:only-of-type {\n",
       "        vertical-align: middle;\n",
       "    }\n",
       "\n",
       "    .dataframe tbody tr th {\n",
       "        vertical-align: top;\n",
       "    }\n",
       "\n",
       "    .dataframe thead th {\n",
       "        text-align: right;\n",
       "    }\n",
       "</style>\n",
       "<table border=\"1\" class=\"dataframe\">\n",
       "  <thead>\n",
       "    <tr style=\"text-align: right;\">\n",
       "      <th></th>\n",
       "      <th>id_sales</th>\n",
       "      <th>year</th>\n",
       "      <th>transmission</th>\n",
       "      <th>condition</th>\n",
       "      <th>odometer</th>\n",
       "      <th>color</th>\n",
       "      <th>interior</th>\n",
       "      <th>mmr</th>\n",
       "      <th>sellingprice</th>\n",
       "      <th>brand_car_id</th>\n",
       "      <th>id_state</th>\n",
       "    </tr>\n",
       "  </thead>\n",
       "  <tbody>\n",
       "    <tr>\n",
       "      <th>0</th>\n",
       "      <td>46</td>\n",
       "      <td>2013</td>\n",
       "      <td>automatic</td>\n",
       "      <td>48.0</td>\n",
       "      <td>29578.0</td>\n",
       "      <td>black</td>\n",
       "      <td>black</td>\n",
       "      <td>19500.0</td>\n",
       "      <td>22200.0</td>\n",
       "      <td>c06cc666-8b4e-4daa-b3f1-6cc43e405cdb</td>\n",
       "      <td>d7f844f9-06ba-4804-82b0-5d61faf555bd</td>\n",
       "    </tr>\n",
       "    <tr>\n",
       "      <th>1</th>\n",
       "      <td>47</td>\n",
       "      <td>2012</td>\n",
       "      <td>automatic</td>\n",
       "      <td>46.0</td>\n",
       "      <td>49014.0</td>\n",
       "      <td>—</td>\n",
       "      <td>gray</td>\n",
       "      <td>32000.0</td>\n",
       "      <td>32250.0</td>\n",
       "      <td>6856870a-095d-46a3-aa42-12273a8a14f2</td>\n",
       "      <td>1a7e914b-4b00-4553-aec9-e9a494342ce4</td>\n",
       "    </tr>\n",
       "    <tr>\n",
       "      <th>2</th>\n",
       "      <td>48</td>\n",
       "      <td>1998</td>\n",
       "      <td>automatic</td>\n",
       "      <td>21.0</td>\n",
       "      <td>287017.0</td>\n",
       "      <td>white</td>\n",
       "      <td>beige</td>\n",
       "      <td>700.0</td>\n",
       "      <td>1150.0</td>\n",
       "      <td>39a98c84-05db-4bb0-9e4d-b17646199e6f</td>\n",
       "      <td>1a7e914b-4b00-4553-aec9-e9a494342ce4</td>\n",
       "    </tr>\n",
       "    <tr>\n",
       "      <th>3</th>\n",
       "      <td>49</td>\n",
       "      <td>2004</td>\n",
       "      <td>automatic</td>\n",
       "      <td>26.0</td>\n",
       "      <td>169982.0</td>\n",
       "      <td>gray</td>\n",
       "      <td>gray</td>\n",
       "      <td>4375.0</td>\n",
       "      <td>4600.0</td>\n",
       "      <td>edac340a-954d-4075-a48f-53076f519623</td>\n",
       "      <td>b3a42363-6957-48f2-adbf-093c97211149</td>\n",
       "    </tr>\n",
       "    <tr>\n",
       "      <th>4</th>\n",
       "      <td>50</td>\n",
       "      <td>2012</td>\n",
       "      <td>automatic</td>\n",
       "      <td>34.0</td>\n",
       "      <td>34930.0</td>\n",
       "      <td>blue</td>\n",
       "      <td>gray</td>\n",
       "      <td>19550.0</td>\n",
       "      <td>18200.0</td>\n",
       "      <td>39a98c84-05db-4bb0-9e4d-b17646199e6f</td>\n",
       "      <td>55657107-f160-419a-8e00-caa8db24a294</td>\n",
       "    </tr>\n",
       "    <tr>\n",
       "      <th>...</th>\n",
       "      <td>...</td>\n",
       "      <td>...</td>\n",
       "      <td>...</td>\n",
       "      <td>...</td>\n",
       "      <td>...</td>\n",
       "      <td>...</td>\n",
       "      <td>...</td>\n",
       "      <td>...</td>\n",
       "      <td>...</td>\n",
       "      <td>...</td>\n",
       "      <td>...</td>\n",
       "    </tr>\n",
       "    <tr>\n",
       "      <th>29995</th>\n",
       "      <td>29996</td>\n",
       "      <td>2012</td>\n",
       "      <td>automatic</td>\n",
       "      <td>36.0</td>\n",
       "      <td>103016.0</td>\n",
       "      <td>white</td>\n",
       "      <td>gray</td>\n",
       "      <td>17700.0</td>\n",
       "      <td>16800.0</td>\n",
       "      <td>d7a04250-036f-421e-b0bb-ea915e217978</td>\n",
       "      <td>1c4a6c8f-6e07-4ce2-91d6-e48ff84ded94</td>\n",
       "    </tr>\n",
       "    <tr>\n",
       "      <th>29996</th>\n",
       "      <td>29997</td>\n",
       "      <td>2012</td>\n",
       "      <td>automatic</td>\n",
       "      <td>36.0</td>\n",
       "      <td>41092.0</td>\n",
       "      <td>—</td>\n",
       "      <td>tan</td>\n",
       "      <td>8475.0</td>\n",
       "      <td>9800.0</td>\n",
       "      <td>c06cc666-8b4e-4daa-b3f1-6cc43e405cdb</td>\n",
       "      <td>f8cd520b-4af5-4c4c-a876-7a8625dda988</td>\n",
       "    </tr>\n",
       "    <tr>\n",
       "      <th>29997</th>\n",
       "      <td>29998</td>\n",
       "      <td>2003</td>\n",
       "      <td></td>\n",
       "      <td>19.0</td>\n",
       "      <td>292925.0</td>\n",
       "      <td>white</td>\n",
       "      <td>gray</td>\n",
       "      <td>3225.0</td>\n",
       "      <td>2400.0</td>\n",
       "      <td>c2ca5c7c-e1dd-4e63-abbe-d96d404a6693</td>\n",
       "      <td>1ec45f88-fd53-4ad4-9194-44954fe925b1</td>\n",
       "    </tr>\n",
       "    <tr>\n",
       "      <th>29998</th>\n",
       "      <td>29999</td>\n",
       "      <td>2014</td>\n",
       "      <td>automatic</td>\n",
       "      <td>4.0</td>\n",
       "      <td>25083.0</td>\n",
       "      <td>gray</td>\n",
       "      <td>gray</td>\n",
       "      <td>12900.0</td>\n",
       "      <td>12800.0</td>\n",
       "      <td>edac340a-954d-4075-a48f-53076f519623</td>\n",
       "      <td>f8cd520b-4af5-4c4c-a876-7a8625dda988</td>\n",
       "    </tr>\n",
       "    <tr>\n",
       "      <th>29999</th>\n",
       "      <td>30000</td>\n",
       "      <td>2012</td>\n",
       "      <td></td>\n",
       "      <td>41.0</td>\n",
       "      <td>45750.0</td>\n",
       "      <td>black</td>\n",
       "      <td>black</td>\n",
       "      <td>29700.0</td>\n",
       "      <td>31700.0</td>\n",
       "      <td>1b0aed3b-defa-4e45-a5ed-3af8f811b3f5</td>\n",
       "      <td>9ca5f3c2-c559-46a4-ae0b-694c855e8b59</td>\n",
       "    </tr>\n",
       "  </tbody>\n",
       "</table>\n",
       "<p>30000 rows × 11 columns</p>\n",
       "</div>"
      ],
      "text/plain": [
       "       id_sales  year transmission  condition  odometer  color interior  \\\n",
       "0            46  2013    automatic       48.0   29578.0  black    black   \n",
       "1            47  2012    automatic       46.0   49014.0      —     gray   \n",
       "2            48  1998    automatic       21.0  287017.0  white    beige   \n",
       "3            49  2004    automatic       26.0  169982.0   gray     gray   \n",
       "4            50  2012    automatic       34.0   34930.0   blue     gray   \n",
       "...         ...   ...          ...        ...       ...    ...      ...   \n",
       "29995     29996  2012    automatic       36.0  103016.0  white     gray   \n",
       "29996     29997  2012    automatic       36.0   41092.0      —      tan   \n",
       "29997     29998  2003                    19.0  292925.0  white     gray   \n",
       "29998     29999  2014    automatic        4.0   25083.0   gray     gray   \n",
       "29999     30000  2012                    41.0   45750.0  black    black   \n",
       "\n",
       "           mmr  sellingprice                          brand_car_id  \\\n",
       "0      19500.0       22200.0  c06cc666-8b4e-4daa-b3f1-6cc43e405cdb   \n",
       "1      32000.0       32250.0  6856870a-095d-46a3-aa42-12273a8a14f2   \n",
       "2        700.0        1150.0  39a98c84-05db-4bb0-9e4d-b17646199e6f   \n",
       "3       4375.0        4600.0  edac340a-954d-4075-a48f-53076f519623   \n",
       "4      19550.0       18200.0  39a98c84-05db-4bb0-9e4d-b17646199e6f   \n",
       "...        ...           ...                                   ...   \n",
       "29995  17700.0       16800.0  d7a04250-036f-421e-b0bb-ea915e217978   \n",
       "29996   8475.0        9800.0  c06cc666-8b4e-4daa-b3f1-6cc43e405cdb   \n",
       "29997   3225.0        2400.0  c2ca5c7c-e1dd-4e63-abbe-d96d404a6693   \n",
       "29998  12900.0       12800.0  edac340a-954d-4075-a48f-53076f519623   \n",
       "29999  29700.0       31700.0  1b0aed3b-defa-4e45-a5ed-3af8f811b3f5   \n",
       "\n",
       "                                   id_state  \n",
       "0      d7f844f9-06ba-4804-82b0-5d61faf555bd  \n",
       "1      1a7e914b-4b00-4553-aec9-e9a494342ce4  \n",
       "2      1a7e914b-4b00-4553-aec9-e9a494342ce4  \n",
       "3      b3a42363-6957-48f2-adbf-093c97211149  \n",
       "4      55657107-f160-419a-8e00-caa8db24a294  \n",
       "...                                     ...  \n",
       "29995  1c4a6c8f-6e07-4ce2-91d6-e48ff84ded94  \n",
       "29996  f8cd520b-4af5-4c4c-a876-7a8625dda988  \n",
       "29997  1ec45f88-fd53-4ad4-9194-44954fe925b1  \n",
       "29998  f8cd520b-4af5-4c4c-a876-7a8625dda988  \n",
       "29999  9ca5f3c2-c559-46a4-ae0b-694c855e8b59  \n",
       "\n",
       "[30000 rows x 11 columns]"
      ]
     },
     "execution_count": 14,
     "metadata": {},
     "output_type": "execute_result"
    }
   ],
   "source": [
    "car_sales"
   ]
  },
  {
   "cell_type": "code",
   "execution_count": 15,
   "id": "98663c31",
   "metadata": {},
   "outputs": [],
   "source": [
    "car_sales = car_sales.rename({'id_sales': 'id_sales_nk', 'sellingprice':'selling_price'}, axis='columns')"
   ]
  },
  {
   "cell_type": "code",
   "execution_count": 16,
   "id": "58f1956a",
   "metadata": {},
   "outputs": [],
   "source": [
    "get_key={\n",
    "            \"car_brand\":\"brand_car_id_nk\",\n",
    "            \"car_sales\":\"id_sales_nk\",\n",
    "            \"us_state\":\"id_state_nk\"\n",
    "        }\n",
    "car_sales=car_sales.set_index([get_key.get('car_sales')], drop = False)\n",
    "car_sales= car_sales.drop('id_sales_nk', axis=1)"
   ]
  },
  {
   "cell_type": "code",
   "execution_count": 18,
   "id": "883a74e9",
   "metadata": {},
   "outputs": [
    {
     "name": "stdout",
     "output_type": "stream",
     "text": [
      "Load data us_state to Datawarehouse  is succeed\n",
      "Load data car_brand to Datawarehouse  is succeed\n",
      "Load data car_sales to Datawarehouse  is succeed\n"
     ]
    }
   ],
   "source": [
    "to_load=['us_state','car_brand','car_sales']\n",
    "for table in to_load:\n",
    "    load_dwh(globals()[f'{table}'],table)"
   ]
  },
  {
   "cell_type": "code",
   "execution_count": 196,
   "id": "4489a0ef",
   "metadata": {},
   "outputs": [],
   "source": [
    "upsert(con=dwh_engine, \n",
    "        df=us_state, \n",
    "        table_name=\"us_state\", \n",
    "        schema=\"public\", \n",
    "        if_row_exists=\"update\")"
   ]
  },
  {
   "cell_type": "code",
   "execution_count": 197,
   "id": "6d5564dc",
   "metadata": {},
   "outputs": [],
   "source": [
    "upsert(con=dwh_engine, \n",
    "        df=car_brand, \n",
    "        table_name=\"car_brand\", \n",
    "        schema=\"public\", \n",
    "        if_row_exists=\"update\")"
   ]
  },
  {
   "cell_type": "code",
   "execution_count": 198,
   "id": "b4d52764",
   "metadata": {},
   "outputs": [],
   "source": [
    "upsert(con=dwh_engine, \n",
    "        df=car_sales, \n",
    "        table_name=\"car_sales\", \n",
    "        schema=\"public\", \n",
    "        if_row_exists=\"update\")"
   ]
  },
  {
   "cell_type": "code",
   "execution_count": null,
   "id": "b2b5352a",
   "metadata": {},
   "outputs": [],
   "source": [
    "import requests"
   ]
  },
  {
   "cell_type": "code",
   "execution_count": null,
   "id": "181fd8ee",
   "metadata": {},
   "outputs": [],
   "source": [
    "# Establish connection to API\n",
    "resp = requests.get(\"https://raw.githubusercontent.com/Kurikulum-Sekolah-Pacmann/us_states_data/refs/heads/main/us_states.json\")\n",
    "\n",
    "# Parse the response JSON\n",
    "raw_response = resp.json()\n",
    "\n",
    "# Convert the JSON data to a pandas DataFrame\n",
    "df_api = pd.DataFrame(raw_response['regions'])\n"
   ]
  },
  {
   "cell_type": "code",
   "execution_count": null,
   "id": "85ffd543",
   "metadata": {},
   "outputs": [
    {
     "name": "stdout",
     "output_type": "stream",
     "text": [
      "    id_state code                      name\n",
      "0          1   al                   Alabama\n",
      "1          2   ak                    Alaska\n",
      "2          3   az                   Arizona\n",
      "3          4   ar                  Arkansas\n",
      "4          5   ca                California\n",
      "..       ...  ...                       ...\n",
      "63        64   pr               Puerto Rico\n",
      "64        65   vi       U.S. Virgin Islands\n",
      "65        66   gu                      Guam\n",
      "66        67   mp  Northern Mariana Islands\n",
      "67        68   as            American Samoa\n",
      "\n",
      "[68 rows x 3 columns]\n"
     ]
    }
   ],
   "source": [
    "print(df_api)"
   ]
  },
  {
   "cell_type": "code",
   "execution_count": null,
   "id": "a6e8a2c0",
   "metadata": {},
   "outputs": [],
   "source": []
  }
 ],
 "metadata": {
  "kernelspec": {
   "display_name": "Python 3",
   "language": "python",
   "name": "python3"
  },
  "language_info": {
   "codemirror_mode": {
    "name": "ipython",
    "version": 3
   },
   "file_extension": ".py",
   "mimetype": "text/x-python",
   "name": "python",
   "nbconvert_exporter": "python",
   "pygments_lexer": "ipython3",
   "version": "3.10.12"
  }
 },
 "nbformat": 4,
 "nbformat_minor": 5
}
