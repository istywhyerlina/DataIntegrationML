{
 "cells": [
  {
   "cell_type": "code",
   "execution_count": 1,
   "id": "bff5f76d",
   "metadata": {},
   "outputs": [],
   "source": [
    "import pandas as pd\n",
    "import sys\n",
    "sys.path.insert(0, '/home/istywhyerlina/PipelinePyspark/exercise4/data_pipeline_exercise_4/script')\n",
    "from helper.db_conn import db_connection\n",
    "from pangres import upsert\n",
    "from etl.extract import *\n",
    "from etl.load import *\n",
    "from etl.transform import *\n",
    "from ML.split import *\n",
    "\n",
    "from sqlalchemy import *\n",
    "\n"
   ]
  },
  {
   "cell_type": "code",
   "execution_count": 2,
   "id": "1bcfb6a4",
   "metadata": {},
   "outputs": [
    {
     "name": "stdout",
     "output_type": "stream",
     "text": [
      "Extract Data car_brand from Datawarehouse is Succeed\n",
      "Extract Data car_sales from Datawarehouse is Succeed\n",
      "Extract Data us_state from Datawarehouse is Succeed\n"
     ]
    }
   ],
   "source": [
    "_, stg_engine, dwh_engine,_ = db_connection()\n",
    "meta = MetaData()\n",
    "meta.reflect(bind=stg_engine)\n",
    "for table in meta.sorted_tables:\n",
    "    globals()[f'{table}']=extract_db(str(table), \"dwh\")"
   ]
  },
  {
   "cell_type": "code",
   "execution_count": 3,
   "id": "4d492531",
   "metadata": {},
   "outputs": [],
   "source": [
    "car_brand=car_brand[['brand_car_id','brand_name']]\n",
    "us_state=us_state[['id_state','name']]\n"
   ]
  },
  {
   "cell_type": "code",
   "execution_count": 4,
   "id": "cf4d9092",
   "metadata": {},
   "outputs": [],
   "source": [
    "car_sales =car_sales .merge(car_brand, how=\"left\", on='brand_car_id')\n",
    "car_sales = car_sales.merge(us_state, how=\"left\", left_on='id_state', right_on='id_state')"
   ]
  },
  {
   "cell_type": "code",
   "execution_count": 5,
   "id": "1dfd8ef6",
   "metadata": {},
   "outputs": [],
   "source": [
    "car_sales=car_sales.drop(['brand_car_id','id_state','id_sales','id_sales_nk','created_at'], axis=1)\n",
    "car_sales = car_sales.rename({'name': 'state'}, axis='columns')"
   ]
  },
  {
   "cell_type": "code",
   "execution_count": 7,
   "id": "bdce899a",
   "metadata": {},
   "outputs": [],
   "source": [
    "X_train, X_test, y_train, y_test = splitting_process(data = car_sales,\n",
    "                                                         target_col = 'selling_price',\n",
    "                                                         test_size = 80)"
   ]
  },
  {
   "cell_type": "code",
   "execution_count": null,
   "id": "2fb67d30",
   "metadata": {},
   "outputs": [
    {
     "data": {
      "text/plain": [
       "25535    22000.0\n",
       "17963    11100.0\n",
       "25246     9000.0\n",
       "5081      9901.0\n",
       "9350      2800.0\n",
       "          ...   \n",
       "29802    26000.0\n",
       "5390     14500.0\n",
       "860      38400.0\n",
       "15795     1900.0\n",
       "23654    11600.0\n",
       "Name: selling_price, Length: 29920, dtype: float64"
      ]
     },
     "execution_count": 9,
     "metadata": {},
     "output_type": "execute_result"
    }
   ],
   "source": []
  },
  {
   "cell_type": "code",
   "execution_count": 24,
   "id": "05d3f1d2",
   "metadata": {},
   "outputs": [
    {
     "name": "stdout",
     "output_type": "stream",
     "text": [
      "       year  condition  odometer      mmr  selling_price  transmission_  \\\n",
      "0      2005       19.0   99483.0   3975.0         3500.0           True   \n",
      "1      2012       43.0   30032.0  14800.0        14600.0          False   \n",
      "2      2012       47.0   28408.0  25500.0        24500.0           True   \n",
      "3      2014       46.0   13069.0  27000.0        26600.0          False   \n",
      "4      2004       19.0  155121.0   1325.0          500.0           True   \n",
      "...     ...        ...       ...      ...            ...            ...   \n",
      "29995  2011       32.0  104005.0  10400.0         9500.0          False   \n",
      "29996  2005        4.0   57868.0   7825.0        12200.0          False   \n",
      "29997  2012       25.0   34425.0  27600.0        23900.0          False   \n",
      "29998  2012       32.0   33334.0  17450.0        16800.0          False   \n",
      "29999  2005        NaN  108430.0   3200.0         3100.0          False   \n",
      "\n",
      "       transmission_Sedan  transmission_automatic  transmission_manual  \\\n",
      "0                   False                   False                False   \n",
      "1                   False                    True                False   \n",
      "2                   False                   False                False   \n",
      "3                   False                    True                False   \n",
      "4                   False                   False                False   \n",
      "...                   ...                     ...                  ...   \n",
      "29995               False                    True                False   \n",
      "29996               False                   False                 True   \n",
      "29997               False                    True                False   \n",
      "29998               False                    True                False   \n",
      "29999               False                    True                False   \n",
      "\n",
      "       color_  ...  state_Pennsylvania  state_Puerto Rico  state_Quebec  \\\n",
      "0       False  ...               False              False         False   \n",
      "1       False  ...               False              False         False   \n",
      "2       False  ...               False              False         False   \n",
      "3       False  ...               False              False         False   \n",
      "4       False  ...               False              False         False   \n",
      "...       ...  ...                 ...                ...           ...   \n",
      "29995   False  ...               False              False         False   \n",
      "29996   False  ...                True              False         False   \n",
      "29997   False  ...               False              False         False   \n",
      "29998   False  ...               False              False         False   \n",
      "29999   False  ...               False              False         False   \n",
      "\n",
      "       state_South Carolina  state_Tennessee  state_Texas  state_Utah  \\\n",
      "0                     False            False        False       False   \n",
      "1                     False            False        False       False   \n",
      "2                     False            False        False       False   \n",
      "3                     False            False        False       False   \n",
      "4                     False            False        False       False   \n",
      "...                     ...              ...          ...         ...   \n",
      "29995                 False            False         True       False   \n",
      "29996                 False            False        False       False   \n",
      "29997                 False            False        False       False   \n",
      "29998                 False            False        False       False   \n",
      "29999                 False            False        False       False   \n",
      "\n",
      "       state_Virginia  state_Washington  state_Wisconsin  \n",
      "0               False             False            False  \n",
      "1               False             False            False  \n",
      "2               False             False            False  \n",
      "3               False             False            False  \n",
      "4                True             False            False  \n",
      "...               ...               ...              ...  \n",
      "29995           False             False            False  \n",
      "29996           False             False            False  \n",
      "29997           False             False            False  \n",
      "29998           False             False            False  \n",
      "29999           False             False            False  \n",
      "\n",
      "[30000 rows x 136 columns]\n"
     ]
    }
   ],
   "source": [
    "\n",
    "# Perform one-hot encoding\n",
    "car_sales2 = pd.get_dummies(car_sales, columns=['transmission','color','interior','brand_name','state'])\n",
    "\n",
    "print(car_sales2)"
   ]
  }
 ],
 "metadata": {
  "kernelspec": {
   "display_name": "Python 3",
   "language": "python",
   "name": "python3"
  },
  "language_info": {
   "codemirror_mode": {
    "name": "ipython",
    "version": 3
   },
   "file_extension": ".py",
   "mimetype": "text/x-python",
   "name": "python",
   "nbconvert_exporter": "python",
   "pygments_lexer": "ipython3",
   "version": "3.10.12"
  }
 },
 "nbformat": 4,
 "nbformat_minor": 5
}
